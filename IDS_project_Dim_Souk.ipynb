{
 "cells": [
  {
   "cell_type": "markdown",
   "id": "e44e1d49",
   "metadata": {},
   "source": [
    "# IDS Project Notebook\n",
    "\n",
    "Αυτό το notebook είναι starter για σύστημα ανίχνευσης εισβολών χρησιμοποιώντας το dataset `pcap_data.csv` από το GitHub. Περιλαμβάνει supervised και unsupervised προσέγγιση καθώς και βασική προεπεξεργασία."
   ]
  },
  {
   "cell_type": "code",
   "execution_count": null,
   "id": "e06d79d1",
   "metadata": {},
   "outputs": [],
   "source": [
    "import pandas as pd\n",
    "import numpy as np\n",
    "from sklearn.model_selection import train_test_split\n",
    "from sklearn.preprocessing import StandardScaler, OneHotEncoder\n",
    "from sklearn.ensemble import RandomForestClassifier, IsolationForest\n",
    "from sklearn.metrics import classification_report, confusion_matrix, roc_auc_score\n",
    "import matplotlib.pyplot as plt\n",
    "\n",
    "# Για αποθήκευση\n",
    "import os\n"
   ]
  },
  {
   "cell_type": "code",
   "execution_count": null,
   "id": "1a15e4d6",
   "metadata": {},
   "outputs": [],
   "source": [
    "# 1. Φόρτωση δεδομένων από το GitHub (raw)\n",
    "url = \"https://raw.githubusercontent.com/kdemertzis/EKPA/main/Data/pcap_data.csv\"\n",
    "try:\n",
    "    df = pd.read_csv(url)\n",
    "except Exception as e:\n",
    "    print('Σφάλμα φόρτωσης (πιθανόν λόγω αποσυνδεδεμένου περιβάλλοντος):', e)\n",
    "    df = pd.DataFrame()\n",
    "\n",
    "# 2. Προεπισκόπηση\n",
    "print('Σχήμα dataset:', df.shape)\n",
    "display(df.head())\n"
   ]
  },
  {
   "cell_type": "code",
   "execution_count": null,
   "id": "f5593f4c",
   "metadata": {},
   "outputs": [],
   "source": [
    "# 3. Απλή προεπεξεργασία\n",
    "if not df.empty:\n",
    "    # Έλεγχος για ελλείπουσες τιμές\n",
    "    print('Ελλείπουσες τιμές ανά στήλη:')\n",
    "    print(df.isnull().sum())\n",
    "\n",
    "    # Διαχωρισμός αριθμητικών στηλών\n",
    "    numeric_cols = df.select_dtypes(include=[np.number]).columns.tolist()\n",
    "    print('Αριθμητικές στήλες:', numeric_cols)\n",
    "\n",
    "    # Scaling των αριθμητικών χαρακτηριστικών\n",
    "    scaler = StandardScaler()\n",
    "    if numeric_cols:\n",
    "        df[numeric_cols] = scaler.fit_transform(df[numeric_cols])\n",
    "\n",
    "    # Αν υπάρχει ετικέτα, supervised\n",
    "    if 'label' in df.columns:\n",
    "        X = df.drop(columns=['label'])\n",
    "        y = df['label']\n",
    "        X_train, X_test, y_train, y_test = train_test_split(\n",
    "            X, y, test_size=0.3, random_state=42, stratify=y if len(np.unique(y))>1 else None\n",
    "        )\n",
    "        clf = RandomForestClassifier(n_estimators=100, random_state=42)\n",
    "        clf.fit(X_train, y_train)\n",
    "        y_pred = clf.predict(X_test)\n",
    "        print('Supervised classification report:')\n",
    "        print(classification_report(y_test, y_pred))\n",
    "        if hasattr(clf, 'predict_proba'):\n",
    "            try:\n",
    "                roc = roc_auc_score(y_test, clf.predict_proba(X_test)[:,1])\n",
    "                print('ROC AUC:', roc)\n",
    "            except Exception as e:\n",
    "                print('Δεν υπολογίστηκε ROC AUC:', e)\n",
    "    else:\n",
    "        # Unsupervised anomaly detection\n",
    "        iso = IsolationForest(contamination=0.01, random_state=42)\n",
    "        iso.fit(df[numeric_cols])\n",
    "        anomalies = iso.predict(df[numeric_cols])  # -1 anomaly\n",
    "        df['anomaly'] = (anomalies == -1).astype(int)\n",
    "        print('Πλήθος ανωμαλιών:', df['anomaly'].sum())\n",
    "else:\n",
    "    print('Το dataset είναι άδειο, παρακαλώ ελέγξτε τη φόρτωση.')\n"
   ]
  },
  {
   "cell_type": "code",
   "execution_count": null,
   "id": "ba897511",
   "metadata": {},
   "outputs": [],
   "source": [
    "# 4. Αποθήκευση επεξεργασμένων / αποτελεσμάτων\n",
    "output_path = 'IDS_processed_results.csv'\n",
    "try:\n",
    "    if not df.empty:\n",
    "        df.to_csv(output_path, index=False)\n",
    "        print(f'Αποθηκεύτηκαν αποτελέσματα σε {output_path}')\n",
    "except Exception as e:\n",
    "    print('Σφάλμα κατά την αποθήκευση:', e)\n"
   ]
  },
  {
   "cell_type": "code",
   "execution_count": null,
   "id": "d6ae96e9",
   "metadata": {},
   "outputs": [],
   "source": [
    "# 5. Προτεινόμενα επόμενα βήματα\n",
    "# - Προσθήκη Autoencoder με Keras για reconstruction-based anomaly detection.\n",
    "# - Βελτίωση επιλογής χαρακτηριστικών (feature selection / importance).\n",
    "# - Διαχωρισμός σε pipeline και χρήση GridSearchCV για tuning.\n",
    "# - Οπτικοποίηση (confusion matrix heatmap, histograms reconstruction error).\n"
   ]
  }
 ],
 "metadata": {},
 "nbformat": 4,
 "nbformat_minor": 5
}
