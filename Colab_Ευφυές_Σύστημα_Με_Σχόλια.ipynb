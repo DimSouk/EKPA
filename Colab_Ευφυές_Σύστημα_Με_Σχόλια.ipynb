{
  "cells": [
    {
      "cell_type": "markdown",
      "metadata": {
        "id": "view-in-github",
        "colab_type": "text"
      },
      "source": [
        "<a href=\"https://colab.research.google.com/github/DimSouk/EKPA/blob/main/Colab_%CE%95%CF%85%CF%86%CF%85%CE%AD%CF%82_%CE%A3%CF%8D%CF%83%CF%84%CE%B7%CE%BC%CE%B1_%CE%9C%CE%B5_%CE%A3%CF%87%CF%8C%CE%BB%CE%B9%CE%B1.ipynb\" target=\"_parent\"><img src=\"https://colab.research.google.com/assets/colab-badge.svg\" alt=\"Open In Colab\"/></a>"
      ]
    },
    {
      "cell_type": "markdown",
      "id": "566059e2",
      "metadata": {
        "id": "566059e2"
      },
      "source": [
        "# Ευφυές Σύστημα Ανίχνευσης Απειλών\n",
        "Αυτό το Colab notebook υλοποιεί ένα μοντέλο μηχανικής μάθησης για την ανίχνευση κακόβουλης κίνησης δικτύου με χρήση του συνόλου δεδομένων DarkNet.csv. Όλα τα βήματα περιέχουν σχόλια για την κατανόηση της διαδικασίας."
      ]
    },
    {
      "cell_type": "code",
      "execution_count": null,
      "id": "05905255",
      "metadata": {
        "id": "05905255"
      },
      "outputs": [],
      "source": [
        "# Εισάγουμε τις απαραίτητες βιβλιοθήκες για ανάλυση δεδομένων, οπτικοποίηση και μηχανική μάθηση\n",
        "import pandas as pd  # για φόρτωση και διαχείριση δεδομένων\n",
        "import numpy as np   # για αριθμητικούς υπολογισμούς\n",
        "import matplotlib.pyplot as plt  # για γραφήματα\n",
        "import seaborn as sns  # για πιο όμορφα γραφήματα\n",
        "from sklearn.model_selection import train_test_split  # για διαχωρισμό train/test\n",
        "from sklearn.ensemble import RandomForestClassifier  # αλγόριθμος ταξινόμησης\n",
        "from sklearn.metrics import classification_report, confusion_matrix  # μετρικές αξιολόγησης"
      ]
    },
    {
      "cell_type": "code",
      "execution_count": null,
      "id": "a14ce7b7",
      "metadata": {
        "id": "a14ce7b7"
      },
      "outputs": [],
      "source": [
        "# Φόρτωση του συνόλου δεδομένων από GitHub\n",
        "url = 'https://raw.githubusercontent.com/kdemertzis/EKPA/main/Data/DarkNet.csv'\n",
        "df = pd.read_csv(url)  # φόρτωση csv σε dataframe\n",
        "print('Μέγεθος συνόλου δεδομένων:', df.shape)\n",
        "df.head()  # εμφάνιση των πρώτων 5 γραμμών για έλεγχο"
      ]
    },
    {
      "cell_type": "code",
      "execution_count": null,
      "id": "26988d8e",
      "metadata": {
        "id": "26988d8e"
      },
      "outputs": [],
      "source": [
        "# Έλεγχος για κενές τιμές και αφαίρεσή τους αν υπάρχουν\n",
        "print('Κενές τιμές ανά στήλη:')\n",
        "print(df.isnull().sum())\n",
        "df = df.dropna()  # αφαίρεση γραμμών με κενά\n",
        "\n",
        "# Διαχωρισμός δεδομένων σε χαρακτηριστικά (X) και ετικέτες (y)\n",
        "X = df.drop('Label', axis=1)  # όλα τα χαρακτηριστικά εκτός από την ετικέτα\n",
        "y = df['Label']  # η ετικέτα (κανονική ή επίθεση)\n",
        "print('Διαστάσεις Χ:', X.shape, '| Διαστάσεις y:', y.shape)"
      ]
    },
    {
      "cell_type": "code",
      "execution_count": null,
      "id": "ca6d76b8",
      "metadata": {
        "id": "ca6d76b8"
      },
      "outputs": [],
      "source": [
        "# Διαχωρίζουμε τα δεδομένα σε train (70%) και test (30%)\n",
        "X_train, X_test, y_train, y_test = train_test_split(X, y, test_size=0.3, random_state=42)\n",
        "print('Μέγεθος train set:', X_train.shape, '| Μέγεθος test set:', X_test.shape)"
      ]
    },
    {
      "cell_type": "code",
      "execution_count": null,
      "id": "1dd6aa99",
      "metadata": {
        "id": "1dd6aa99"
      },
      "outputs": [],
      "source": [
        "# Δημιουργία και εκπαίδευση του μοντέλου Random Forest\n",
        "clf = RandomForestClassifier(n_estimators=100, random_state=42)  # ορίζουμε 100 δέντρα\n",
        "clf.fit(X_train, y_train)  # εκπαίδευση στο training set\n",
        "print('Το μοντέλο εκπαιδεύτηκε επιτυχώς!')"
      ]
    },
    {
      "cell_type": "code",
      "execution_count": null,
      "id": "968aee2c",
      "metadata": {
        "id": "968aee2c"
      },
      "outputs": [],
      "source": [
        "# Χρήση του μοντέλου για πρόβλεψη στο test set\n",
        "y_pred = clf.predict(X_test)\n",
        "\n",
        "# Αναφορά ταξινόμησης: δείχνει precision, recall, f1-score\n",
        "print('Αναφορά ταξινόμησης:')\n",
        "print(classification_report(y_test, y_pred))\n",
        "\n",
        "# Confusion matrix για οπτική επιβεβαίωση της απόδοσης\n",
        "cm = confusion_matrix(y_test, y_pred)\n",
        "plt.figure(figsize=(6,4))\n",
        "sns.heatmap(cm, annot=True, fmt='d', cmap='Blues')\n",
        "plt.xlabel('Προβλεπόμενη Κλάση')\n",
        "plt.ylabel('Πραγματική Κλάση')\n",
        "plt.title('Confusion Matrix')\n",
        "plt.show()"
      ]
    }
  ],
  "metadata": {
    "colab": {
      "provenance": [],
      "include_colab_link": true
    }
  },
  "nbformat": 4,
  "nbformat_minor": 5
}